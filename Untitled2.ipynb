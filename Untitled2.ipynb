{
 "cells": [
  {
   "cell_type": "code",
   "execution_count": 1,
   "id": "a9fc119a",
   "metadata": {},
   "outputs": [],
   "source": [
    "import psycopg2"
   ]
  },
  {
   "cell_type": "code",
   "execution_count": 8,
   "id": "3198902e",
   "metadata": {},
   "outputs": [
    {
     "name": "stdout",
     "output_type": "stream",
     "text": [
      "opened data base \n"
     ]
    }
   ],
   "source": [
    "x=psycopg2.connect(database=\"newdb\",user=\"postgres\",password=\"karim989898\",host=\"127.0.0.1\",port=\"5432\")\n",
    "print(\"opened data base \")"
   ]
  },
  {
   "cell_type": "code",
   "execution_count": 12,
   "id": "b6f3a101",
   "metadata": {},
   "outputs": [
    {
     "ename": "InFailedSqlTransaction",
     "evalue": "current transaction is aborted, commands ignored until end of transaction block\n",
     "output_type": "error",
     "traceback": [
      "\u001b[1;31m---------------------------------------------------------------------------\u001b[0m",
      "\u001b[1;31mInFailedSqlTransaction\u001b[0m                    Traceback (most recent call last)",
      "Cell \u001b[1;32mIn[12], line 3\u001b[0m\n\u001b[0;32m      1\u001b[0m \u001b[38;5;66;03m#cursor that connect x to postegers \u001b[39;00m\n\u001b[0;32m      2\u001b[0m cur\u001b[38;5;241m=\u001b[39mx\u001b[38;5;241m.\u001b[39mcursor()\n\u001b[1;32m----> 3\u001b[0m cur\u001b[38;5;241m.\u001b[39mexecute(\u001b[38;5;124m'''\u001b[39m\u001b[38;5;124mcreate table kemo (id int primary key not null,\u001b[39m\n\u001b[0;32m      4\u001b[0m \u001b[38;5;124mname text not null,\u001b[39m\n\u001b[0;32m      5\u001b[0m \u001b[38;5;124mage int not null,\u001b[39m\n\u001b[0;32m      6\u001b[0m \u001b[38;5;124mcity char(50),\u001b[39m\n\u001b[0;32m      7\u001b[0m \u001b[38;5;124msalary real); \u001b[39m\u001b[38;5;124m'''\u001b[39m)\n\u001b[0;32m      8\u001b[0m \u001b[38;5;28mprint\u001b[39m(\u001b[38;5;124m\"\u001b[39m\u001b[38;5;124mtable created successfulyy\u001b[39m\u001b[38;5;124m\"\u001b[39m)\n\u001b[0;32m      9\u001b[0m \u001b[38;5;66;03m#commit to connect  x to pgadmin\u001b[39;00m\n",
      "\u001b[1;31mInFailedSqlTransaction\u001b[0m: current transaction is aborted, commands ignored until end of transaction block\n"
     ]
    }
   ],
   "source": [
    "#cursor that connect x to postegers \n",
    "cur=x.cursor()\n",
    "cur.execute('''create table kemo (id int primary key not null,\n",
    "name text not null,\n",
    "age int not null,\n",
    "city char(50),\n",
    "salary real); ''')\n",
    "print(\"table created successfulyy\")\n",
    "#commit to connect  x to pgadmin\n",
    "x.commit()"
   ]
  },
  {
   "cell_type": "raw",
   "id": "dfe0e5ac",
   "metadata": {},
   "source": [
    "x=psycopg2.connect(database=\"newdb\",user=\"postgres\",password=\"karim989898\",host=\"127.0.0.1\",port=\"5432\")\n",
    "cur=x.cursor()\n",
    "insert condition\n",
    "cur.execute(\"insert into kemo(id ,name ,age,salary) values(1,mohamed,56,5000);\")\n",
    "cur.execute(\"insert into kemo(id ,name ,age,salary) values(2,kassap,67,5600);\")\n",
    "cur.execute(\"insert into kemo(id ,name ,age,salary) values(3,mn3m,78,6000);\")\n",
    "x.commit()\n",
    "print(\"insert is done\")"
   ]
  },
  {
   "cell_type": "code",
   "execution_count": null,
   "id": "51d442eb",
   "metadata": {},
   "outputs": [],
   "source": []
  },
  {
   "cell_type": "code",
   "execution_count": null,
   "id": "3621ade8",
   "metadata": {},
   "outputs": [],
   "source": []
  },
  {
   "cell_type": "code",
   "execution_count": null,
   "id": "58c5899e",
   "metadata": {},
   "outputs": [],
   "source": []
  },
  {
   "cell_type": "code",
   "execution_count": null,
   "id": "726a8e3d",
   "metadata": {},
   "outputs": [],
   "source": []
  },
  {
   "cell_type": "code",
   "execution_count": null,
   "id": "5384bfd1",
   "metadata": {},
   "outputs": [],
   "source": []
  }
 ],
 "metadata": {
  "kernelspec": {
   "display_name": "Python 3 (ipykernel)",
   "language": "python",
   "name": "python3"
  },
  "language_info": {
   "codemirror_mode": {
    "name": "ipython",
    "version": 3
   },
   "file_extension": ".py",
   "mimetype": "text/x-python",
   "name": "python",
   "nbconvert_exporter": "python",
   "pygments_lexer": "ipython3",
   "version": "3.11.5"
  }
 },
 "nbformat": 4,
 "nbformat_minor": 5
}
