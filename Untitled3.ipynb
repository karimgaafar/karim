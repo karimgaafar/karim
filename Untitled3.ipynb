{
 "cells": [
  {
   "cell_type": "code",
   "execution_count": 1,
   "id": "5191cb3d",
   "metadata": {},
   "outputs": [],
   "source": [
    "import psycopg2"
   ]
  },
  {
   "cell_type": "code",
   "execution_count": 2,
   "id": "f39ea256",
   "metadata": {},
   "outputs": [
    {
     "name": "stdout",
     "output_type": "stream",
     "text": [
      "opened data base \n"
     ]
    }
   ],
   "source": [
    "x=psycopg2.connect(database=\"newdb\",user=\"postgres\",password=\"karim989898\",host=\"127.0.0.1\",port=\"5432\")\n",
    "print(\"opened data base \")"
   ]
  },
  {
   "cell_type": "code",
   "execution_count": 3,
   "id": "22c33895",
   "metadata": {},
   "outputs": [
    {
     "name": "stdout",
     "output_type": "stream",
     "text": [
      "table created successfulyy\n"
     ]
    }
   ],
   "source": [
    "#cursor that connect x to postegers \n",
    "cur=x.cursor()\n",
    "cur.execute('''create table kemooo (id int primary key not null,\n",
    "name text not null,\n",
    "age int not null,\n",
    "city char(50),\n",
    "salary real); ''')\n",
    "print(\"table created successfulyy\")\n",
    "#commit to connect  x to pgadmin\n",
    "x.commit()"
   ]
  },
  {
   "cell_type": "code",
   "execution_count": 8,
   "id": "d8a59578",
   "metadata": {},
   "outputs": [
    {
     "name": "stdout",
     "output_type": "stream",
     "text": [
      "insert is done\n"
     ]
    }
   ],
   "source": [
    "x=psycopg2.connect(database=\"newdb\",user=\"postgres\",password=\"karim989898\",host=\"127.0.0.1\",port=\"5432\")\n",
    "cur=x.cursor()\n",
    "#insert condition\n",
    "cur.execute(\"insert into kemooo(id ,name ,age,salary) values(1,'mohamed',56,5000);\")\n",
    "cur.execute(\"insert into kemooo(id ,name ,age,salary) values(2,'kassap',67,5600);\")\n",
    "cur.execute(\"insert into kemooo(id ,name ,age,salary) values(3,'mn3m',78,6000);\")\n",
    "x.commit()\n",
    "print(\"insert is done\")"
   ]
  },
  {
   "cell_type": "code",
   "execution_count": 11,
   "id": "2de1f37f",
   "metadata": {},
   "outputs": [
    {
     "name": "stdout",
     "output_type": "stream",
     "text": [
      "id=  1\n",
      " name =  mohamed\n",
      " age=  56\n",
      " salary =  5000.0 \n",
      "\n",
      "id=  2\n",
      " name =  kassap\n",
      " age=  67\n",
      " salary =  5600.0 \n",
      "\n",
      "id=  3\n",
      " name =  mn3m\n",
      " age=  78\n",
      " salary =  6000.0 \n",
      "\n",
      "loop is done \n"
     ]
    }
   ],
   "source": [
    "[[4,'nadeem',45,7800],[5,'hazem',34,8000],[6,'hanfy',34,9000]]\n",
    "x=psycopg2.connect(database=\"newdb\",user=\"postgres\",password=\"karim989898\",host=\"127.0.0.1\",port=\"5432\")\n",
    "cur=x.cursor()\n",
    "cur.execute(\"select id,name, age, salary from kemooo \")\n",
    "rows=cur.fetchall()\n",
    "for row in rows:\n",
    "    print(\"id= \", row[0])\n",
    "    print(\" name = \" , row[1])\n",
    "    print(\" age= \", row[2])\n",
    "    print(\" salary = \" ,row[3], \"\\n\")\n",
    "print(\"loop is done \")"
   ]
  },
  {
   "cell_type": "code",
   "execution_count": null,
   "id": "86428053",
   "metadata": {},
   "outputs": [],
   "source": [
    "[[4,'nadeem',45,7800],[5,'hazem',34,8000],[6,'hanfy',34,9000]]\n",
    "x=psycopg2.connect(database=\"newdb\",user=\"postgres\",password=\"karim989898\",host=\"127.0.0.1\",port=\"5432\")\n",
    "cur=x.cursor()\n",
    "cur.execute(\"update kemooo set salary=25000 where age=78\")\n",
    "x.commit()\n",
    "print(\" total number of update:\",cur.rowcount)\n",
    "cur.execute(\"select id,name, age, salary from kemooo \")\n",
    "rows=cur.fetchall()\n",
    "for row in rows:\n",
    "    print(\"id= \", row[0])\n",
    "    print(\" name = \" , row[1])\n",
    "    print(\" age= \", row[2])\n",
    "    print(\" salary = \" ,row[3], \"\\n\")\n",
    "print(\"loop is done \")"
   ]
  },
  {
   "cell_type": "code",
   "execution_count": null,
   "id": "bff1a618",
   "metadata": {},
   "outputs": [],
   "source": []
  },
  {
   "cell_type": "code",
   "execution_count": null,
   "id": "fe3cfd6a",
   "metadata": {},
   "outputs": [],
   "source": []
  }
 ],
 "metadata": {
  "kernelspec": {
   "display_name": "Python 3 (ipykernel)",
   "language": "python",
   "name": "python3"
  },
  "language_info": {
   "codemirror_mode": {
    "name": "ipython",
    "version": 3
   },
   "file_extension": ".py",
   "mimetype": "text/x-python",
   "name": "python",
   "nbconvert_exporter": "python",
   "pygments_lexer": "ipython3",
   "version": "3.11.5"
  }
 },
 "nbformat": 4,
 "nbformat_minor": 5
}
